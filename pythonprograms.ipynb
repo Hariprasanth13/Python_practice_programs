{
 "cells": [
  {
   "cell_type": "code",
   "execution_count": 1,
   "metadata": {},
   "outputs": [
    {
     "name": "stdout",
     "output_type": "stream",
     "text": [
      "33\n"
     ]
    }
   ],
   "source": [
    "lst1 = [5, 12, 19, 26, 33, 40, 47, 54, 61, 68]\n",
    "lst2 = [3, 9, 15, 21, 27, 33, 39, 45, 51, 57]\n",
    "\n",
    "for i in lst1:\n",
    "    if i in lst2:\n",
    "        print(i)"
   ]
  },
  {
   "cell_type": "code",
   "execution_count": 4,
   "metadata": {},
   "outputs": [],
   "source": [
    "max_len = max(len(lst1),len(lst2))\n",
    "seen = set()\n",
    "for i in range(max_len):\n",
    "    if i < len(lst1):\n",
    "        seen.add(lst1[i])\n",
    "    if i < len(lst2):\n",
    "        seen.add(lst2[i])"
   ]
  },
  {
   "cell_type": "code",
   "execution_count": 5,
   "metadata": {},
   "outputs": [
    {
     "data": {
      "text/plain": [
       "{3, 5, 9, 12, 15, 19, 21, 26, 27, 33, 39, 40, 45, 47, 51, 54, 57, 61, 68}"
      ]
     },
     "execution_count": 5,
     "metadata": {},
     "output_type": "execute_result"
    }
   ],
   "source": [
    "seen"
   ]
  },
  {
   "cell_type": "code",
   "execution_count": 14,
   "metadata": {},
   "outputs": [],
   "source": [
    "lst3 = lst1+lst2"
   ]
  },
  {
   "cell_type": "code",
   "execution_count": 13,
   "metadata": {},
   "outputs": [
    {
     "name": "stdout",
     "output_type": "stream",
     "text": [
      "[3, 5, 9, 12, 15, 19, 21, 26, 27, 33, 33, 39, 40, 45, 47, 51, 54, 57, 61, 68]\n"
     ]
    }
   ],
   "source": [
    "# Bubble sorting\n",
    "\n",
    "for i in range(len(lst3)):\n",
    "    for j in range(len(lst3)-i-1):\n",
    "        if lst3[j]>lst3[j+1]:\n",
    "            lst3[j+1],lst3[j] = lst3[j],lst3[j+1]\n",
    "            #print(lst3)\n",
    "print(lst3)"
   ]
  },
  {
   "cell_type": "code",
   "execution_count": 15,
   "metadata": {},
   "outputs": [
    {
     "data": {
      "text/plain": [
       "[5, 12, 19, 26, 33, 40, 47, 54, 61, 68, 3, 9, 15, 21, 27, 33, 39, 45, 51, 57]"
      ]
     },
     "execution_count": 15,
     "metadata": {},
     "output_type": "execute_result"
    }
   ],
   "source": [
    "lst3"
   ]
  },
  {
   "cell_type": "code",
   "execution_count": 20,
   "metadata": {},
   "outputs": [
    {
     "name": "stdout",
     "output_type": "stream",
     "text": [
      "[3, 5, 9, 12, 15, 19, 21, 26, 27, 33, 33, 39, 40, 45, 47, 51, 54, 57, 61, 68]\n"
     ]
    }
   ],
   "source": [
    "# Selection sort\n",
    "\n",
    "for i in range(len(lst3)):\n",
    "    min_index = i\n",
    "    for j in range(i,len(lst3)):\n",
    "        if lst3[j] < lst3[min_index]:\n",
    "            min_index = j\n",
    "    lst3[min_index],lst3[i] = lst3[i],lst3[min_index]\n",
    "\n",
    "print(lst3)"
   ]
  },
  {
   "cell_type": "code",
   "execution_count": 30,
   "metadata": {},
   "outputs": [
    {
     "name": "stdout",
     "output_type": "stream",
     "text": [
      "6\n",
      "20\n"
     ]
    }
   ],
   "source": [
    "# Binary Search - the list should be sorted first\n",
    "arr = [3, 5, 9, 12, 15, 19, 21, 26, 27, 33, 33, 39, 40, 45, 47, 51, 54, 57, 61, 68]\n",
    "low,high = 0 ,len(arr)-1\n",
    "target = 21\n",
    "while low <=high:\n",
    "    mid = (low + high) //2\n",
    "\n",
    "    if target == arr[mid]:\n",
    "        print(mid)\n",
    "        break\n",
    "    elif target < arr[mid]:\n",
    "        high = mid -1\n",
    "    else:\n",
    "        low = mid +1\n",
    "\n",
    "#print(arr)\n",
    "print(len(arr))"
   ]
  },
  {
   "cell_type": "code",
   "execution_count": 35,
   "metadata": {},
   "outputs": [
    {
     "data": {
      "text/plain": [
       "[2, 2, 3, 3, 4]"
      ]
     },
     "execution_count": 35,
     "metadata": {},
     "output_type": "execute_result"
    }
   ],
   "source": [
    "# find the k smallest elements in the list\n",
    "k = 5\n",
    "arr = [21,2,3,4,23,3,4,2,5,76,89,76,5,43,56,789]\n",
    "\n",
    "arr.sort(reverse = False)\n",
    "arr[:5]"
   ]
  },
  {
   "cell_type": "code",
   "execution_count": 31,
   "metadata": {},
   "outputs": [
    {
     "data": {
      "text/plain": [
       "<matplotlib.image.AxesImage at 0x22443ab98d0>"
      ]
     },
     "execution_count": 31,
     "metadata": {},
     "output_type": "execute_result"
    },
    {
     "data": {
      "image/png": "[encoded data removed]",
      "text/plain": [
       "<Figure size 640x480 with 1 Axes>"
      ]
     },
     "metadata": {},
     "output_type": "display_data"
    }
   ],
   "source": [
    "# IoU\n",
    "import cv2 as cv\n",
    "import numpy as np\n",
    "import matplotlib.pyplot as plt\n",
    "\n",
    "box1 = (50,50,120,120)\n",
    "box2 = (60,60,130,130)\n",
    "\n",
    "image = np.ones((400,400,3), dtype = \"uint8\") * 255\n",
    "\n",
    "cv.rectangle(image,(box1[0],box1[1]),(box1[2],box1[3]),(255,0,0),1)\n",
    "cv.rectangle(image,(box2[0],box2[1]),(box2[2],box2[3]),(0,255,0),1)\n",
    "plt.imshow(image)"
   ]
  },
  {
   "cell_type": "code",
   "execution_count": 33,
   "metadata": {},
   "outputs": [
    {
     "name": "stdout",
     "output_type": "stream",
     "text": [
      "(120, 120)\n",
      "IoU : 0.5806451612903226\n"
     ]
    },
    {
     "data": {
      "image/png": "[encoded data removed]",
      "text/plain": [
       "<Figure size 640x480 with 1 Axes>"
      ]
     },
     "metadata": {},
     "output_type": "display_data"
    }
   ],
   "source": [
    "\n",
    "\n",
    "def IoU(box1,box2):\n",
    "    top_left = (max(box1[0],box2[0]),max(box1[1],box2[1]))\n",
    "    bottom_right = (min(box1[2],box2[2]),min(box1[3],box2[3]))\n",
    "    print(bottom_right)\n",
    "\n",
    "    Area_of_Intersection = (bottom_right[0]-top_left[0])*(bottom_right[1]-top_left[1])\n",
    "    area_box1 = (box1[2]-box1[0])*(box1[3]-box1[1])\n",
    "\n",
    "    area_box2 = (box2[2]-box2[0])*(box2[3]-box2[1])\n",
    "\n",
    "    Area_of_union = area_box1 + area_box2 - Area_of_Intersection\n",
    "    print(\"IoU :\",Area_of_Intersection/Area_of_union)\n",
    "    return top_left,bottom_right\n",
    "\n",
    "top_left,bottom_right = IoU(box1,box2)\n",
    "\n",
    "cv.rectangle(image,(top_left),(bottom_right),(0,0,255),3)\n",
    "plt.imshow(image)\n",
    "plt.show()\n",
    "cv.destroyAllWindows()\n",
    "\n"
   ]
  },
  {
   "cell_type": "code",
   "execution_count": 11,
   "metadata": {},
   "outputs": [],
   "source": [
    "import torch.nn.functional as F"
   ]
  },
  {
   "cell_type": "code",
   "execution_count": 30,
   "metadata": {},
   "outputs": [
    {
     "name": "stdout",
     "output_type": "stream",
     "text": [
      "torch.Size([1, 3, 4, 2])\n",
      "tensor([[[0.4711, 0.4930, 0.4919, 0.4767, 0.6446, 0.6174, 0.6182, 0.6370],\n",
      "         [0.6523, 0.6871, 0.7387, 0.7307, 0.5381, 0.5832, 0.6728, 0.6644],\n",
      "         [0.4194, 0.4553, 0.4326, 0.4163, 0.3918, 0.3450, 0.3619, 0.3919]]])\n"
     ]
    }
   ],
   "source": [
    "# Attention mechanism using numpy arrays\n",
    "import numpy as np\n",
    "import torch\n",
    "\n",
    "q = torch.rand(1,3,8)\n",
    "\n",
    "q = q.view(1,3,2,4)\n",
    "q= q.permute(0,1,3,2)\n",
    "v = q\n",
    "k= q\n",
    "#print(q.shape)\n",
    "d_k = 8//2\n",
    "k_transpose = k.transpose(-2,-1)\n",
    "#print(k_transpose.shape)\n",
    "\n",
    "attention_scores = q @ k_transpose\n",
    "scaled_attention_scores = attention_scores/torch.sqrt(torch.tensor(d_k,dtype=torch.float32))\n",
    "\n",
    "attention_weights = F.softmax(scaled_attention_scores,dim = -1)\n",
    "\n",
    "attention_weights.shape\n",
    "v.transpose(-2,-1).shape\n",
    "\n",
    "output = attention_weights @ v\n",
    "print(output.shape)\n",
    "output = output.permute(0,1,3,2)\n",
    "output = output.reshape(1,3,8)\n",
    "print(output)\n",
    "# attention_scores = q.__matmul__(k_transpose)\n",
    "# scaled_attention_scores = attention_scores/np.sqrt(d_k)\n",
    "# attention_scores = F.softmax(attention_scores,dim=-1)\n",
    "# print(attention_scores)"
   ]
  },
  {
   "cell_type": "code",
   "execution_count": 54,
   "metadata": {},
   "outputs": [
    {
     "name": "stdout",
     "output_type": "stream",
     "text": [
      "original tensor  tensor([[[0.9781, 0.7064, 0.4657, 0.3839, 0.0721, 0.6172, 0.1204, 0.1347],\n",
      "         [0.5952, 0.6578, 0.2627, 0.6242, 0.2681, 0.5242, 0.4432, 0.0810],\n",
      "         [0.0517, 0.1421, 0.8840, 0.7108, 0.2427, 0.0351, 0.5816, 0.7383]]])\n",
      " Reshaped to 1,3,2,4  tensor([[[[0.9781, 0.7064, 0.4657, 0.3839],\n",
      "          [0.0721, 0.6172, 0.1204, 0.1347]],\n",
      "\n",
      "         [[0.5952, 0.6578, 0.2627, 0.6242],\n",
      "          [0.2681, 0.5242, 0.4432, 0.0810]],\n",
      "\n",
      "         [[0.0517, 0.1421, 0.8840, 0.7108],\n",
      "          [0.2427, 0.0351, 0.5816, 0.7383]]]])\n",
      "Transpose -2,-1  tensor([[[[0.9781, 0.0721],\n",
      "          [0.7064, 0.6172],\n",
      "          [0.4657, 0.1204],\n",
      "          [0.3839, 0.1347]],\n",
      "\n",
      "         [[0.5952, 0.2681],\n",
      "          [0.6578, 0.5242],\n",
      "          [0.2627, 0.4432],\n",
      "          [0.6242, 0.0810]],\n",
      "\n",
      "         [[0.0517, 0.2427],\n",
      "          [0.1421, 0.0351],\n",
      "          [0.8840, 0.5816],\n",
      "          [0.7108, 0.7383]]]])\n",
      "matrix multiplication :  tensor([[[[0.9619, 0.7354, 0.4642, 0.3852],\n",
      "          [0.7354, 0.8799, 0.4033, 0.3543],\n",
      "          [0.4642, 0.4033, 0.2314, 0.1950],\n",
      "          [0.3852, 0.3543, 0.1950, 0.1655]],\n",
      "\n",
      "         [[0.4261, 0.5320, 0.2752, 0.3932],\n",
      "          [0.5320, 0.7075, 0.4051, 0.4530],\n",
      "          [0.2752, 0.4051, 0.2654, 0.1999],\n",
      "          [0.3932, 0.4530, 0.1999, 0.3962]],\n",
      "\n",
      "         [[0.0616, 0.0159, 0.1869, 0.2160],\n",
      "          [0.0159, 0.0214, 0.1460, 0.1269],\n",
      "          [0.1869, 0.1460, 1.1198, 1.0578],\n",
      "          [0.2160, 0.1269, 1.0578, 1.0503]]]])\n",
      "torch.Size([1, 3, 4, 4])\n",
      "softmax_score tensor([[[[0.3370, 0.2687, 0.2049, 0.1893],\n",
      "          [0.2812, 0.3249, 0.2017, 0.1921],\n",
      "          [0.2859, 0.2690, 0.2266, 0.2185],\n",
      "          [0.2778, 0.2694, 0.2297, 0.2230]],\n",
      "\n",
      "         [[0.2539, 0.2822, 0.2183, 0.2456],\n",
      "          [0.2502, 0.2982, 0.2204, 0.2312],\n",
      "          [0.2465, 0.2807, 0.2441, 0.2286],\n",
      "          [0.2571, 0.2730, 0.2119, 0.2579]],\n",
      "\n",
      "         [[0.2350, 0.2245, 0.2663, 0.2742],\n",
      "          [0.2346, 0.2359, 0.2672, 0.2622],\n",
      "          [0.1451, 0.1393, 0.3689, 0.3467],\n",
      "          [0.1529, 0.1399, 0.3549, 0.3523]]]])\n",
      "softmax_score shape torch.Size([1, 3, 4, 4])\n",
      "Attention_scores tensor([[[[0.1765, 0.6399],\n",
      "          [0.1868, 0.6692],\n",
      "          [0.1764, 0.6631],\n",
      "          [0.1765, 0.6668]],\n",
      "\n",
      "         [[0.5530, 0.5729],\n",
      "          [0.5424, 0.5778],\n",
      "          [0.5586, 0.5783],\n",
      "          [0.5583, 0.5687]],\n",
      "\n",
      "         [[0.2813, 0.6033],\n",
      "          [0.2800, 0.5964],\n",
      "          [0.2956, 0.7021],\n",
      "          [0.2947, 0.6963]]]])\n"
     ]
    }
   ],
   "source": [
    "# Tensor operations\n",
    "\n",
    "a = torch.rand(1,3,8)\n",
    "print(\"original tensor \", a)\n",
    "\n",
    "a.shape\n",
    "a = a.reshape(1,3,2,4)\n",
    "print(\" Reshaped to 1,3,2,4 \", a)\n",
    "\n",
    "a = a.transpose(-2,-1)\n",
    "print(\"Transpose -2,-1 \",a)\n",
    "\n",
    "output = a @ a.transpose(-2,-1)\n",
    "print(\"matrix multiplication : \",output)\n",
    "\n",
    "print(output.shape)\n",
    "\n",
    "softmax_score = F.softmax(output,dim = -1)\n",
    "print(\"softmax_score\",softmax_score)\n",
    "\n",
    "softmax_score.shape\n",
    "print(\"softmax_score shape\",softmax_score.shape)\n",
    "\n",
    "q = torch.rand(1,3,2,4)\n",
    "attention_scores = softmax_score @ q.transpose(-2,-1)\n",
    "\n",
    "print(\"Attention_scores\",attention_scores)"
   ]
  },
  {
   "cell_type": "code",
   "execution_count": 45,
   "metadata": {},
   "outputs": [
    {
     "data": {
      "text/plain": [
       "tensor([[[[ 2332,  4220,  5708,  1540],\n",
       "          [ 4220,  7750, 10420,  2870],\n",
       "          [ 5708, 10420, 14044,  3836],\n",
       "          [ 1540,  2870,  3836,  1078]],\n",
       "\n",
       "         [[  428,   245,  1101,  1343],\n",
       "          [  245,   141,   631,   765],\n",
       "          [ 1101,   631,  2833,  3451],\n",
       "          [ 1343,   765,  3451,  4233]],\n",
       "\n",
       "         [[ 4535,  2808,  4311,  5840],\n",
       "          [ 2808,  1739,  2665,  3621],\n",
       "          [ 4311,  2665,  4154,  5487],\n",
       "          [ 5840,  3621,  5487,  7595]]]])"
      ]
     },
     "execution_count": 45,
     "metadata": {},
     "output_type": "execute_result"
    }
   ],
   "source": [
    "output @ output.transpose(-2,-1)"
   ]
  },
  {
   "cell_type": "code",
   "execution_count": 66,
   "metadata": {},
   "outputs": [
    {
     "name": "stdout",
     "output_type": "stream",
     "text": [
      "[[[0.11704402 0.91148903 0.0331124  0.1970439 ]\n",
      "  [0.99860919 0.09278843 0.86831258 0.9848795 ]\n",
      "  [0.66334431 0.30870948 0.73731135 0.43436151]]]\n",
      "(4, 3, 1)\n",
      "(4, 1, 3)\n"
     ]
    }
   ],
   "source": [
    "# numpy computations\n",
    "\n",
    "a = np.random.rand(1,3,4)\n",
    "print(a)\n",
    "a = a.transpose()\n",
    "print(a.shape)\n",
    "a = a.transpose(0,2,1)\n",
    "print(a.shape)"
   ]
  },
  {
   "cell_type": "code",
   "execution_count": 69,
   "metadata": {},
   "outputs": [
    {
     "data": {
      "text/plain": [
       "array([[[0.11704402, 0.99860919, 0.66334431],\n",
       "        [0.11704402, 0.99860919, 0.66334431]],\n",
       "\n",
       "       [[0.91148903, 0.09278843, 0.30870948],\n",
       "        [0.91148903, 0.09278843, 0.30870948]],\n",
       "\n",
       "       [[0.0331124 , 0.86831258, 0.73731135],\n",
       "        [0.0331124 , 0.86831258, 0.73731135]],\n",
       "\n",
       "       [[0.1970439 , 0.9848795 , 0.43436151],\n",
       "        [0.1970439 , 0.9848795 , 0.43436151]]])"
      ]
     },
     "execution_count": 69,
     "metadata": {},
     "output_type": "execute_result"
    }
   ],
   "source": [
    "st = np.hstack([a,a])\n",
    "st"
   ]
  },
  {
   "cell_type": "code",
   "execution_count": 70,
   "metadata": {},
   "outputs": [
    {
     "data": {
      "text/plain": [
       "array([[[0.11704402, 0.99860919, 0.66334431]],\n",
       "\n",
       "       [[0.91148903, 0.09278843, 0.30870948]],\n",
       "\n",
       "       [[0.0331124 , 0.86831258, 0.73731135]],\n",
       "\n",
       "       [[0.1970439 , 0.9848795 , 0.43436151]],\n",
       "\n",
       "       [[0.11704402, 0.99860919, 0.66334431]],\n",
       "\n",
       "       [[0.91148903, 0.09278843, 0.30870948]],\n",
       "\n",
       "       [[0.0331124 , 0.86831258, 0.73731135]],\n",
       "\n",
       "       [[0.1970439 , 0.9848795 , 0.43436151]]])"
      ]
     },
     "execution_count": 70,
     "metadata": {},
     "output_type": "execute_result"
    }
   ],
   "source": [
    "st = np.vstack([a,a])\n",
    "st"
   ]
  },
  {
   "cell_type": "code",
   "execution_count": 88,
   "metadata": {},
   "outputs": [
    {
     "name": "stdout",
     "output_type": "stream",
     "text": [
      "6\n"
     ]
    }
   ],
   "source": [
    "# largest contiguous sum in a list\n",
    "\n",
    "nums = [-2, 1, -3, 4, -1, 2, 1, -5, 4]\n",
    "\n",
    "current_sum = 0\n",
    "start_index = 0\n",
    "end_index = 2\n",
    "global_max = 0\n",
    "\n",
    "for i in range(1,len(nums)):\n",
    "    \n",
    "    #print(nums[start_index:end_index])\n",
    "    current_sum = sum(nums[start_index:end_index])\n",
    "    #print(current_sum)\n",
    "    if current_sum<=nums[i]:\n",
    "        start_index = i\n",
    "        end_index = i+2\n",
    "        global_max = max(current_sum,global_max)\n",
    "    else:\n",
    "        end_index+=1\n",
    "        global_max=max(current_sum,global_max)\n",
    "global_max = max(global_max,sum(nums[start_index:end_index]))\n",
    "print(global_max)\n"
   ]
  },
  {
   "cell_type": "code",
   "execution_count": 90,
   "metadata": {},
   "outputs": [
    {
     "data": {
      "text/plain": [
       "6"
      ]
     },
     "execution_count": 90,
     "metadata": {},
     "output_type": "execute_result"
    }
   ],
   "source": [
    "# using Kadane algorithm\n",
    "nums = [2, 3, -2, 4]\n",
    "# Expected output: 6 (subarray: [2, 3])\n",
    "def longest_product(nums):\n",
    "    current_max = nums[0]\n",
    "    global_max = nums[0]\n",
    "\n",
    "    for i in range(1,len(nums)):\n",
    "        current_max = max(current_max*nums[i],nums[i])\n",
    "        global_max = max(current_max,global_max)\n",
    "\n",
    "    return global_max\n",
    "\n",
    "longest_product(nums)\n"
   ]
  },
  {
   "cell_type": "code",
   "execution_count": 22,
   "metadata": {},
   "outputs": [
    {
     "data": {
      "text/plain": [
       "[1, 1, 2, 1, 2, 3]"
      ]
     },
     "execution_count": 22,
     "metadata": {},
     "output_type": "execute_result"
    }
   ],
   "source": [
    "# List comprehension\n",
    "\n",
    "lst = [[1],[1,2],[1,2,3]]\n",
    "def flatten_list(lst):\n",
    "    result = []\n",
    "    for i in range(len(lst)):\n",
    "        for j in range(len(lst[i])):\n",
    "            result.append(lst[i][j])\n",
    "    return result\n",
    "\n",
    "flatten_list(lst)\n",
    "\n",
    "\n"
   ]
  },
  {
   "cell_type": "code",
   "execution_count": 17,
   "metadata": {},
   "outputs": [
    {
     "name": "stdout",
     "output_type": "stream",
     "text": [
      "tensor([[0.5489],\n",
      "        [0.5332],\n",
      "        [0.6700],\n",
      "        [0.1668]])\n"
     ]
    }
   ],
   "source": [
    "import torch\n",
    "import torch.nn as nn\n",
    "import torch.optim as optim\n",
    "\n",
    "class Backpropagation(nn.Module):\n",
    "    def __init__(self):\n",
    "        super(Backpropagation,self).__init__()\n",
    "        self.linear_1 = nn.Linear(2,10)\n",
    "        self.linear_2 = nn.Linear(10,1)\n",
    "        self.relu = nn.ReLU()\n",
    "        self.sigmoid = nn.Sigmoid()\n",
    "\n",
    "    def forward(self,x):\n",
    "        x = self.relu(self.linear_1(x))\n",
    "        x = self.sigmoid(self.linear_2(x))\n",
    "        return x\n",
    "\n",
    "x = torch.tensor([[1.0,1.23],[2.12,3.21],[3.65,9.42],[8.22,7.77]])\n",
    "y = torch.tensor([[1.0],[0.0],[1.0],[0.0]])\n",
    "\n",
    "model = Backpropagation()\n",
    "criterion = nn.BCELoss()\n",
    "optimizer = optim.SGD(model.parameters(),lr = 0.01)\n",
    "\n",
    "epochs = 100\n",
    "\n",
    "for epoch in range(epochs):\n",
    "    model.train()\n",
    "    output = model(x)\n",
    "\n",
    "    loss = criterion(output,y)\n",
    "\n",
    "    optimizer.zero_grad()\n",
    "    loss.backward()\n",
    "    optimizer.step()\n",
    "\n",
    "# Testing\n",
    "\n",
    "with torch.no_grad():\n",
    "    model.eval()\n",
    "    output = model(x)\n",
    "    print(output)\n",
    "\n",
    "\n",
    "\n",
    "        "
   ]
  },
  {
   "cell_type": "code",
   "execution_count": null,
   "metadata": {},
   "outputs": [],
   "source": [
    "%pip install scikit_learn"
   ]
  },
  {
   "cell_type": "code",
   "execution_count": 20,
   "metadata": {},
   "outputs": [
    {
     "name": "stdout",
     "output_type": "stream",
     "text": [
      "   feature_0  feature_1  feature_2  feature_3  feature_4  feature_5  \\\n",
      "0  -0.419085  -0.524277   0.476253   2.561713   2.412024  -0.813342   \n",
      "1  -0.877220  -0.818137   0.139041  -2.300790  -2.048621  -0.516195   \n",
      "2  -0.021345   1.983297   1.284437  -0.149490   2.835748  -0.579037   \n",
      "3  -0.059226  -0.245850  -0.380072  -1.047704  -2.164244   0.492436   \n",
      "4  -0.852368  -1.446252   1.987807   2.282875  -0.629572  -0.706482   \n",
      "\n",
      "   feature_6  feature_7  feature_8  feature_9  feature_10  feature_11  \\\n",
      "0   2.305296   1.427952  -2.193423   0.229563    1.522439    0.136592   \n",
      "1  -1.871853  -1.553647   0.894296   0.006021   -0.316707   -0.458388   \n",
      "2   2.637723  -0.456497  -1.840523  -0.875360    1.043845   -0.724768   \n",
      "3  -2.373312  -1.463626   0.279176   1.245914    0.608480   -2.116903   \n",
      "4  -0.895054   0.426656  -1.817803  -1.851765    2.051574   -1.051531   \n",
      "\n",
      "   feature_12  target  \n",
      "0   -1.256119       1  \n",
      "1   -1.571680       0  \n",
      "2   -1.885398       2  \n",
      "3    1.213316       7  \n",
      "4    0.683480       6  \n"
     ]
    }
   ],
   "source": [
    "\n",
    "from sklearn.datasets import make_classification\n",
    "import pandas as pd\n",
    "\n",
    "x,y = make_classification(\n",
    "    n_classes=10,\n",
    "    n_features=13,\n",
    "    n_informative=5,\n",
    "    n_redundant=2,\n",
    "    n_samples=1000,\n",
    "    random_state=42\n",
    ")\n",
    "feature_names = [f\"feature_{i}\" for i in range(x.shape[1])]\n",
    "data = pd.DataFrame(x,columns = feature_names)\n",
    "\n",
    "data[\"target\"] = y\n",
    "\n",
    "print(data.head())"
   ]
  },
  {
   "cell_type": "code",
   "execution_count": null,
   "metadata": {},
   "outputs": [],
   "source": []
  }
 ],
 "metadata": {
  "kernelspec": {
   "display_name": "Python 3",
   "language": "python",
   "name": "python3"
  },
  "language_info": {
   "codemirror_mode": {
    "name": "ipython",
    "version": 3
   },
   "file_extension": ".py",
   "mimetype": "text/x-python",
   "name": "python",
   "nbconvert_exporter": "python",
   "pygments_lexer": "ipython3",
   "version": "3.11.1"
  }
 },
 "nbformat": 4,
 "nbformat_minor": 2
}
